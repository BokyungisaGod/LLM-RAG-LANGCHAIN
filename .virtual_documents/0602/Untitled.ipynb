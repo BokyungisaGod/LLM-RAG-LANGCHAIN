pip install langchain


# 보경.json 파일 읽기
import json

with open('보경.json', 'r', encoding='utf-8') as f:
    data = json.load(f)
    
print(data)
data


from langchain_text_splitters import RecursiveCharacterTextSplitter
# https://python.langchain.com/v0.1/docs/modules/data_connection/document_transformers/recursive_text_splitter/

# xxSplitter
# textSplitter
# pdfSplitter
# jsonSplitter ..


# https://platform.openai.com/tokenizer


# 아래 보이는건 그 중 하나
text_splitter = RecursiveCharacterTextSplitter(
    
    chunk_size=1000,
    chunk_overlap=0,
    length_function=len,
    is_separator_regex=False,
)
for v in data:
    txt = v['text']
    texts = text_splitter.create_documents([txt])
    print("몇 개: ", len(texts))
    print(texts[0])
   



